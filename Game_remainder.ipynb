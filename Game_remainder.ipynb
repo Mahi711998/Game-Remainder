{
  "nbformat": 4,
  "nbformat_minor": 0,
  "metadata": {
    "colab": {
      "provenance": []
    },
    "kernelspec": {
      "name": "python3",
      "display_name": "Python 3"
    },
    "language_info": {
      "name": "python"
    }
  },
  "cells": [
    {
      "cell_type": "markdown",
      "source": [
        "Requirements\n",
        "\n",
        "1.coin has two sides take head-0 and tail-1\n",
        "\n",
        "2.take input from user 1 or 0 anything other than that print invalid and loop until valid input is given\n",
        "\n",
        "3.let system randomly generate input between 0 and 1\n",
        "\n",
        "4.if system guesses user input correctly then system wins or else user will win\n",
        "\n",
        "5.take user input for number of rounds they want to play\n",
        "track the score and who ever gets the highest score is the winner"
      ],
      "metadata": {
        "id": "o5LLeGE1FB-h"
      }
    },
    {
      "cell_type": "code",
      "source": [
        "import random\n",
        "start=1\n",
        "rounds=int(input(\"enter how many rounds you want:\"))\n",
        "ai_points=0\n",
        "user_points=0\n",
        "while start<=rounds:\n",
        "    print(\"round number\",start)\n",
        "    user=int(input(\"enter any number:\"))\n",
        "    while user not in (0,1):\n",
        "        print(\"invalid number\")\n",
        "        user=int(input(\"you can enter only 0 or 1:\"))\n",
        "    ai=random.randint(0,1)\n",
        "    print(ai,\"is ai generated\")\n",
        "    print(user,\"is user generated\")\n",
        "    if ai==user:\n",
        "        ai_points+=1\n",
        "        print(\"user points\",user_points)\n",
        "        print(\"ai points\",ai_points)\n",
        "    else:\n",
        "        user_points+=1\n",
        "        print(\"user points\",user_points)\n",
        "        print(\"ai points\",ai_points)\n",
        "    start=start+1\n",
        "print(\"user total points:\",user_points)\n",
        "print(\"ai total points:\",ai_points)\n",
        "if user_points>ai_points:\n",
        "    print(\"user is won this game\")\n",
        "elif ai_points>user_points:\n",
        "    print(\"ai is won this game\")\n",
        "else:\n",
        "    print(\"both are won\")\n"
      ],
      "metadata": {
        "colab": {
          "base_uri": "https://localhost:8080/"
        },
        "id": "aWJuIHnNFrdj",
        "outputId": "5c6e62f1-e315-45c2-cdd2-d377c2d8d057"
      },
      "execution_count": null,
      "outputs": [
        {
          "output_type": "stream",
          "name": "stdout",
          "text": [
            "enter how many rounds you want:4\n",
            "round number 1\n",
            "enter any number:2\n",
            "invalid number\n",
            "you can enter only 0 or 1:1\n",
            "0 is ai generated\n",
            "1 is user generated\n",
            "user points 1\n",
            "ai points 0\n",
            "round number 2\n",
            "enter any number:0\n",
            "0 is ai generated\n",
            "0 is user generated\n",
            "user points 1\n",
            "ai points 1\n",
            "round number 3\n",
            "enter any number:1\n",
            "0 is ai generated\n",
            "1 is user generated\n",
            "user points 2\n",
            "ai points 1\n",
            "round number 4\n",
            "enter any number:1\n",
            "0 is ai generated\n",
            "1 is user generated\n",
            "user points 3\n",
            "ai points 1\n",
            "user total points: 3\n",
            "ai total points: 1\n",
            "user is won this game\n"
          ]
        }
      ]
    }
  ]
}